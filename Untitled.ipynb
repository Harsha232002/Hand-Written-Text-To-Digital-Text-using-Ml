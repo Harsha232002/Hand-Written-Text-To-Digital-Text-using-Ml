{
 "cells": [
  {
   "cell_type": "code",
   "execution_count": 1,
   "id": "703f3550",
   "metadata": {},
   "outputs": [],
   "source": [
    "from tkinter import *\n",
    "from tkinter.ttk import *\n",
    "from tkinter.filedialog import askopenfile \n",
    "import time"
   ]
  },
  {
   "cell_type": "code",
   "execution_count": 2,
   "id": "d3578d07",
   "metadata": {},
   "outputs": [
    {
     "data": {
      "text/plain": [
       "''"
      ]
     },
     "execution_count": 2,
     "metadata": {},
     "output_type": "execute_result"
    }
   ],
   "source": [
    "ws = Tk()\n",
    "ws.title('PythonGuides')\n",
    "ws.geometry('400x200') \n"
   ]
  },
  {
   "cell_type": "code",
   "execution_count": 3,
   "id": "29346072",
   "metadata": {},
   "outputs": [],
   "source": [
    "def open_file():\n",
    "    file_path = askopenfile(mode='r', filetypes=[('All Files', '*jpeg','*png')])\n",
    "    if file_path is not None:\n",
    "        pass"
   ]
  },
  {
   "cell_type": "code",
   "execution_count": 4,
   "id": "e816b98a",
   "metadata": {},
   "outputs": [],
   "source": [
    "def uploadFiles():\n",
    "    pb1 = Progressbar(\n",
    "        ws, \n",
    "        orient=HORIZONTAL, \n",
    "        length=300, \n",
    "        mode='determinate'\n",
    "        )\n",
    "    pb1.grid(row=4, columnspan=3, pady=20)\n",
    "    for i in range(5):\n",
    "        ws.update_idletasks()\n",
    "        pb1['value'] += 20\n",
    "        time.sleep(1)\n",
    "    pb1.destroy()\n",
    "    Label(ws, text='File Uploaded Successfully!', foreground='green').grid(row=4, columnspan=3, pady=10)"
   ]
  },
  {
   "cell_type": "code",
   "execution_count": 5,
   "id": "5a432450",
   "metadata": {},
   "outputs": [],
   "source": [
    "adhar = Label(\n",
    "    ws, \n",
    "    text='Upload Hand Written Text '\n",
    "    )\n",
    "adhar.grid(row=0, column=0, padx=10)\n",
    "\n",
    "adharbtn = Button(\n",
    "    ws, \n",
    "    text ='Choose File', \n",
    "    command = lambda:open_file()\n",
    "    ) \n",
    "adharbtn.grid(row=0, column=1)\n",
    "\n",
    "\n",
    "\n",
    "ws.mainloop()"
   ]
  },
  {
   "cell_type": "code",
   "execution_count": null,
   "id": "dde4e265",
   "metadata": {},
   "outputs": [],
   "source": []
  }
 ],
 "metadata": {
  "kernelspec": {
   "display_name": "Python 3 (ipykernel)",
   "language": "python",
   "name": "python3"
  },
  "language_info": {
   "codemirror_mode": {
    "name": "ipython",
    "version": 3
   },
   "file_extension": ".py",
   "mimetype": "text/x-python",
   "name": "python",
   "nbconvert_exporter": "python",
   "pygments_lexer": "ipython3",
   "version": "3.10.7"
  }
 },
 "nbformat": 4,
 "nbformat_minor": 5
}
